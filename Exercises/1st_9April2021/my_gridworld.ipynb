{
 "cells": [
  {
   "cell_type": "markdown",
   "metadata": {},
   "source": [
    "## Gridworld"
   ]
  },
  {
   "cell_type": "code",
   "execution_count": 1,
   "metadata": {},
   "outputs": [],
   "source": [
    "import numpy as np\n",
    "import matplotlib.pyplot as plt"
   ]
  },
  {
   "cell_type": "markdown",
   "metadata": {},
   "source": [
    "### Bellman Equation\n",
    "\n",
    "$$V_{t+1}(s) = \\max_a(r(s') + \\gamma V_t(s'))$$"
   ]
  },
  {
   "cell_type": "code",
   "execution_count": 2,
   "metadata": {},
   "outputs": [],
   "source": [
    "from enum import Enum\n",
    "class Cell(Enum):\n",
    "    EMPTY = 0\n",
    "    OBSTACLE = -1\n",
    "    REWARD = 1\n",
    "\n",
    "class Action(Enum):\n",
    "    RIGHT = 0\n",
    "    UP = 1\n",
    "    LEFT = 2\n",
    "    DOWN = 3\n",
    "\n",
    "    def to_numpy(self):\n",
    "        return np.array([[1, 0], [0, 1], [-1, 0], [0, -1]])[self.value]"
   ]
  },
  {
   "cell_type": "code",
   "execution_count": 9,
   "metadata": {},
   "outputs": [
    {
     "data": {
      "image/png": "[encoded data removed]",
      "text/plain": [
       "<Figure size 432x288 with 1 Axes>"
      ]
     },
     "metadata": {
      "needs_background": "light"
     },
     "output_type": "display_data"
    }
   ],
   "source": [
    "from dataclasses import dataclass\n",
    "from typing import Tuple\n",
    "\n",
    "@dataclass\n",
    "class State:\n",
    "    x: int\n",
    "    y: int\n",
    "\n",
    "    def to_numpy(self) -> np.ndarray:\n",
    "        return np.array([self.x, self.y])\n",
    "\n",
    "class GridWorld:\n",
    "    def __init__(self, nx:int , ny:int):\n",
    "        self.grid: np.ndarray = np.ones((nx,ny), dtype=int) * Cell.EMPTY.value\n",
    "\n",
    "    def get_shape(self) -> Tuple[int]:\n",
    "        return self.grid.shape\n",
    "    \n",
    "    def add_obstacle(self, x:int, y:int):\n",
    "        self.grid[x,y] = Cell.OBSTACLE.value\n",
    "\n",
    "    def add_reward(self, x:int, y:int, value:int = 1):\n",
    "        self.grid[x,y] = Cell.REWARD.value * value\n",
    "\n",
    "    def __repr__(self):\n",
    "        return self.grid.__repr__()\n",
    "\n",
    "    def plot(self):\n",
    "        plt.imshow(np.clip(self.grid, -1, 1), cmap='coolwarm', interpolation='nearest')\n",
    "        plt.show()\n",
    "\n",
    "    def step(self, state:State, action:Action) -> Tuple[State, float]:\n",
    "        x, y = state.to_numpy()\n",
    "\n",
    "        if self.grid[x, y] != Cell.EMPTY.value:\n",
    "            return state, 0\n",
    "\n",
    "        next_x, next_y = state.to_numpy() + action.to_numpy()\n",
    "        if next_x < 0 or next_x >= self.get_shape()[0]:\n",
    "            return state, 0\n",
    "\n",
    "        if next_y < 0 or next_y >= self.get_shape()[1]:\n",
    "            return state, 0\n",
    "\n",
    "        return State(next_x, next_y), self.grid[next_x, next_y]\n",
    "\n",
    "        \n",
    "nx, ny = 20, 20\n",
    "world = GridWorld(nx, ny)\n",
    "\n",
    "def sample_random_integer_points_in_2D(nx:int, ny:int, size:int):\n",
    "    x = np.random.randint(0, nx, size)\n",
    "    y = np.random.randint(0, ny, size)\n",
    "    return np.array([x, y]).T\n",
    "\n",
    "\n",
    "[world.add_obstacle(x, y) for x, y in sample_random_integer_points_in_2D(nx, ny, 100)]\n",
    "\n",
    "rewards = [[1,4, 5], [16, 18, 10]]\n",
    "[world.add_reward(*reward) for reward in rewards]\n",
    "\n",
    "world.plot()"
   ]
  },
  {
   "cell_type": "code",
   "execution_count": 12,
   "metadata": {},
   "outputs": [],
   "source": [
    "value_function = np.zeros((nx, ny))\n",
    "n_iters = 100\n",
    "gamma = 0.9\n",
    "\n",
    "for i in range(n_iters):\n",
    "    for x in range(nx):\n",
    "        for y in range(ny):\n",
    "            values = []\n",
    "            for a in Action:\n",
    "                next_state, reward = world.step(State(x, y), a)\n",
    "                values.append(reward + gamma * value_function[next_state.x, next_state.y])\n",
    "            \n",
    "            value_function[x, y] = max(values)"
   ]
  },
  {
   "cell_type": "code",
   "execution_count": 13,
   "metadata": {},
   "outputs": [
    {
     "data": {
      "text/plain": [
       "<matplotlib.image.AxesImage at 0x197b92e8940>"
      ]
     },
     "execution_count": 13,
     "metadata": {},
     "output_type": "execute_result"
    },
    {
     "data": {
      "image/png": "[encoded data removed]",
      "text/plain": [
       "<Figure size 432x288 with 1 Axes>"
      ]
     },
     "metadata": {
      "needs_background": "light"
     },
     "output_type": "display_data"
    }
   ],
   "source": [
    "for x, y, r in rewards:\n",
    "    value_function[x, y] = r\n",
    "\n",
    "plt.imshow(value_function, cmap='inferno', interpolation='nearest')"
   ]
  }
 ],
 "metadata": {
  "interpreter": {
   "hash": "2a4961f4bd0df756dde565ebb4ae544abddfa7c654cb42033f70d271070244ac"
  },
  "kernelspec": {
   "display_name": "Python 3.9.7 ('base')",
   "language": "python",
   "name": "python3"
  },
  "language_info": {
   "codemirror_mode": {
    "name": "ipython",
    "version": 3
   },
   "file_extension": ".py",
   "mimetype": "text/x-python",
   "name": "python",
   "nbconvert_exporter": "python",
   "pygments_lexer": "ipython3",
   "version": "3.9.7"
  },
  "orig_nbformat": 4
 },
 "nbformat": 4,
 "nbformat_minor": 2
}
