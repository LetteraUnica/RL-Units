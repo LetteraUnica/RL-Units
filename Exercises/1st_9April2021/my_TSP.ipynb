{
 "cells": [
  {
   "cell_type": "markdown",
   "metadata": {},
   "source": [
    "## Travelling Salesman"
   ]
  },
  {
   "cell_type": "code",
   "execution_count": 1,
   "metadata": {},
   "outputs": [],
   "source": [
    "import numpy as np\n",
    "import pylab as pl\n",
    "import math\n",
    "from TSP_scripts import *\n",
    "\n",
    "from IPython.display import clear_output"
   ]
  },
  {
   "cell_type": "code",
   "execution_count": 59,
   "metadata": {},
   "outputs": [],
   "source": [
    "n_cities, dims = 16, 2\n",
    "\n",
    "cities = sample_n_points(n_cities, dims)\n",
    "indexes = list(range(n_cities))\n",
    "\n",
    "distance_matrix = compute_distance_matrix(cities)"
   ]
  },
  {
   "cell_type": "code",
   "execution_count": 39,
   "metadata": {},
   "outputs": [
    {
     "data": {
      "text/plain": [
       "2.4000523913036043"
      ]
     },
     "execution_count": 39,
     "metadata": {},
     "output_type": "execute_result"
    }
   ],
   "source": [
    "def brute_force(indexes):\n",
    "    all_paths = all_permutations(indexes[1:])\n",
    "    concatenate_to_all_lists(all_paths, indexes[0])\n",
    "    \n",
    "    lengths = get_all_paths_lengths(distance_matrix, all_paths)\n",
    "    return min(lengths)\n",
    "\n",
    "brute_force(indexes)"
   ]
  },
  {
   "cell_type": "code",
   "execution_count": 60,
   "metadata": {},
   "outputs": [
    {
     "data": {
      "text/plain": [
       "State(k=0, A=(1, 2, 3, 4, 5, 6, 7, 8, 9, 10, 11, 12, 13, 14, 15))"
      ]
     },
     "execution_count": 60,
     "metadata": {},
     "output_type": "execute_result"
    }
   ],
   "source": [
    "from dataclasses import dataclass\n",
    "from typing import Tuple, Dict, List\n",
    "\n",
    "@dataclass(frozen=True)\n",
    "class State:\n",
    "    k: int          # Current city\n",
    "    A: Tuple[int]   # Cities to visit\n",
    "\n",
    "    def get_number_of_actions(self) -> int:\n",
    "        return len(self.A)\n",
    "\n",
    "    def step(self, action: int) -> \"State\":\n",
    "        return State(action, tuple(a for a in self.A if a != action))\n",
    "        \n",
    "\n",
    "state = State(indexes[0], tuple(indexes[1:]))\n",
    "state"
   ]
  },
  {
   "cell_type": "code",
   "execution_count": 61,
   "metadata": {},
   "outputs": [
    {
     "data": {
      "text/plain": [
       "(3.6996701206308944,\n",
       " [10, 6, 1, 9, 8, 7, 5, 14, 2, 4, 11, 3, 12, 13, 15, 0, 10])"
      ]
     },
     "execution_count": 61,
     "metadata": {},
     "output_type": "execute_result"
    }
   ],
   "source": [
    "def get_next_states(state: State, depth: int = 1) -> List[State]:\n",
    "    if depth == 0:\n",
    "        return [state]\n",
    "\n",
    "    next_current_cities = all_subsets_of_n_elements(state.A, depth)\n",
    "    next_states = []\n",
    "    for next_ks in next_current_cities:\n",
    "        for next_k in next_ks:\n",
    "            next_A = tuple(a for a in state.A if a not in next_ks)\n",
    "            next_state = State(next_k, next_A)\n",
    "\n",
    "            next_states.append(next_state)\n",
    "\n",
    "    return next_states\n",
    "\n",
    "\n",
    "def compute_cost(init_state: State) -> Dict[State, float]:\n",
    "    value_function = dict()\n",
    "    max_depth = init_state.get_number_of_actions()\n",
    "\n",
    "    states = get_next_states(init_state, max_depth)\n",
    "    for state in states:\n",
    "        value_function[state] = distance_matrix[state.k, 0]\n",
    "\n",
    "    for depth in range(max_depth-1, -1, -1):\n",
    "        states = get_next_states(init_state, depth)\n",
    "        \n",
    "        for state in states:\n",
    "            next_states = get_next_states(state)\n",
    "            costs = [distance_matrix[state.k, next_state.k] + value_function[next_state] for next_state in next_states]\n",
    "            value_function[state] = min(costs)\n",
    "\n",
    "    return value_function\n",
    "\n",
    "\n",
    "def get_best_action(state:State, value_function: Dict[State, float]) -> int:\n",
    "    next_states = get_next_states(state)\n",
    "    costs = [distance_matrix[state.k, next_state.k] + value_function[next_state] for next_state in next_states]\n",
    "    return next_states[np.argmin(costs)].k\n",
    "\n",
    "def get_best_path(state:State, value_function: Dict[State, float]) -> List[int]:\n",
    "    best_path = []\n",
    "    for i in range(state.get_number_of_actions()):\n",
    "        best_action = get_best_action(state, value_function)\n",
    "        best_path.append(best_action)\n",
    "        state = state.step(best_action)\n",
    "\n",
    "    return best_path\n",
    "        \n",
    "\n",
    "value_function = compute_cost(state)\n",
    "\n",
    "best_path = get_best_path(state, value_function)\n",
    "best_path.extend([indexes[0], best_path[0]])\n",
    "\n",
    "value_function[state], best_path"
   ]
  },
  {
   "cell_type": "code",
   "execution_count": 62,
   "metadata": {},
   "outputs": [
    {
     "data": {
      "text/plain": [
       "[<matplotlib.lines.Line2D at 0x1d343528d00>]"
      ]
     },
     "execution_count": 62,
     "metadata": {},
     "output_type": "execute_result"
    },
    {
     "data": {
      "image/png": "[encoded data removed]",
      "text/plain": [
       "<Figure size 432x288 with 1 Axes>"
      ]
     },
     "metadata": {
      "needs_background": "light"
     },
     "output_type": "display_data"
    }
   ],
   "source": [
    "def path_to_points(path, cities):\n",
    "    return np.array([cities[i] for i in path])\n",
    "    \n",
    "pl.plot(path_to_points(best_path, cities)[:,0], path_to_points(best_path, cities)[:,1], '-o')"
   ]
  }
 ],
 "metadata": {
  "interpreter": {
   "hash": "2a4961f4bd0df756dde565ebb4ae544abddfa7c654cb42033f70d271070244ac"
  },
  "kernelspec": {
   "display_name": "Python 3.9.7 64-bit ('base': conda)",
   "language": "python",
   "name": "python3"
  },
  "language_info": {
   "codemirror_mode": {
    "name": "ipython",
    "version": 3
   },
   "file_extension": ".py",
   "mimetype": "text/x-python",
   "name": "python",
   "nbconvert_exporter": "python",
   "pygments_lexer": "ipython3",
   "version": "3.9.7"
  },
  "orig_nbformat": 4
 },
 "nbformat": 4,
 "nbformat_minor": 2
}
