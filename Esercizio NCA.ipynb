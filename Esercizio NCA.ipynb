{
 "cells": [
  {
   "cell_type": "markdown",
   "metadata": {},
   "source": [
    "# Neural Cellular Automata Tutorial"
   ]
  },
  {
   "cell_type": "markdown",
   "metadata": {},
   "source": [
    "## Introduction\n",
    "\n",
    "Play around with the animation at this [link](https://distill.pub/2020/growing-ca/), on the right you can change some parameters.  "
   ]
  },
  {
   "cell_type": "markdown",
   "metadata": {},
   "source": [
    "In this notebook you will learn how the Cellular Automata model behind that animation works and how it is trained.  \n",
    "Finally, you will train a Neural Cellular Automata that represents your favourite image."
   ]
  },
  {
   "cell_type": "markdown",
   "metadata": {},
   "source": [
    "## Recap on Cellular Automata\n",
    "\n",
    "A rigorus mathematical definition of a CA can be found [here](https://plato.stanford.edu/entries/cellular-automata/#SomeBasiNotiResu), however, a more intuitive definition is:\n",
    "\n",
    "A Cellular Automata (CA) consists of a grid of cells that is iteratively updated using the same transition rule $f$ at each step, the only requirement is that the next state of each cell depends only on its previous state $x_t$ and the state of its neighbors $N(x_t)$.\n",
    "$$x_{t+1}= f(x_t , N(x_t))$$\n",
    "\n",
    "To make this definition more intuitive, consider the hat rule:  \n",
    "\n",
    "Hat rule: a student will wear the hat in the next class if one or the other, but not both, of the two classmates sitting immediately on her left and on her right has the hat in the current class (if nobody wears a hat, a hat is out of fashion; but if both neighbors wear it, a hat is now too popular to be trendy).\n",
    "\n",
    "Initial class: during the first class in the morning, only one student in the middle shows up with a hat.\n",
    "\n",
    "In this case we have:\n",
    "* 1-dimensional lattice of cells on a line.\n",
    "\n",
    "* $x_t \\in \\{0, 1\\}$ (1 = hat on, 0 = hat off)\n",
    "\n",
    "* Each cell’s neighborhood is composed by the two nearest cells. If $c_i$ is cell number $i$, then $N(c_i)=\\{c_{i−1}, c_{i+1}\\}$\n",
    "\n",
    "* The transition rule $f$ is simple: at each time step $t$, a cell state is 1 if exactly one of the neighboring cells was 1 at $t−1$, 0 otherwise.\n",
    "\n",
    "We can readily implement the hat rule in python"
   ]
  },
  {
   "cell_type": "code",
   "execution_count": 2,
   "metadata": {},
   "outputs": [],
   "source": [
    "from typing import List\n",
    "import pylab as pl\n",
    "import numpy as np\n",
    "\n",
    "import torch\n",
    "import torch.nn.functional as F\n",
    "\n",
    "\n",
    "class HatRule:\n",
    "    \"\"\"The classroom is represented as a list of int where 1 is a student with a hat and 0 is a student without a hat\"\"\"\n",
    "    def __init__(self, size: int = 50):\n",
    "        self.size = size\n",
    "        self.classroom = self.get_initial_classroom(size)\n",
    "\n",
    "    @staticmethod\n",
    "    def get_initial_classroom(size: int) -> torch.Tensor:\n",
    "        # In the first class of the morning only the student in the middle has a hat\n",
    "        classroom = torch.zeros(size, dtype=torch.int8)\n",
    "        classroom[size // 2] = 1\n",
    "        return classroom\n",
    "\n",
    "    def set_classroom(self, classroom: torch.Tensor):\n",
    "        self.classroom = classroom\n",
    "    \n",
    "    def get_classroom(self) -> torch.Tensor:\n",
    "        return self.classroom.clone()\n",
    "\n",
    "    def step(self) -> torch.Tensor:\n",
    "        ## TODO: Write the update rule of the hat rule, to avoid boundary problems avoid updating the cells at the boundary\n",
    "        next_classroom = self.classroom.clone()\n",
    "        for i in range(1, self.size - 1):\n",
    "            next_classroom[i] = (self.classroom[i - 1] + self.classroom[i + 1]) % 2\n",
    "        return next_classroom\n",
    "\n",
    "    def evolve(self, n_steps: int) -> torch.Tensor:\n",
    "        \"\"\"Evolve the classroom for n_steps steps\"\"\"\n",
    "        for _ in range(n_steps):\n",
    "            self.classroom = self.step()\n",
    "        return self.classroom.clone()\n",
    "\n",
    "    def plot_evolution(self, n_steps: int = 100):\n",
    "        classrooms = torch.empty((n_steps+1, self.size), dtype=torch.int8)\n",
    "        classrooms[0] = self.get_classroom()\n",
    "        for i in range(1, n_steps+1):\n",
    "            classrooms[i] = self.evolve(1)\n",
    "        pl.matshow(classrooms.detach().numpy())"
   ]
  },
  {
   "cell_type": "markdown",
   "metadata": {},
   "source": [
    "If you implemented correctly the `step` method, below you should see a triangular shaped fractal, which is in fact [Sierpiński triangle](https://en.wikipedia.org/wiki/Sierpi%C5%84ski_triangle)."
   ]
  },
  {
   "cell_type": "code",
   "execution_count": 14,
   "metadata": {},
   "outputs": [
    {
     "data": {
      "image/png": "[encoded data removed]",
      "text/plain": [
       "<Figure size 570.297x288 with 1 Axes>"
      ]
     },
     "metadata": {
      "needs_background": "light"
     },
     "output_type": "display_data"
    }
   ],
   "source": [
    "rule = HatRule(size=200)\n",
    "rule.plot_evolution(n_steps=100)"
   ]
  },
  {
   "cell_type": "markdown",
   "metadata": {},
   "source": [
    "The above figure is a clear example of emergence:\n",
    "> The evolutionary pattern displayed contrasts with the simplicity of the underlying law (the “Hat rule”) [...]. The global, emergent behavior of the system supervenes upon its local, simple features.  \n",
    "> -- <cite>Stanford encyclopedia of Philosophy</cite>"
   ]
  },
  {
   "cell_type": "markdown",
   "metadata": {},
   "source": [
    "We highly encourage the reader who is interested in Cellular Automata to take a look at the [Stanford encyclopedia of Philosophy article](https://plato.stanford.edu/entries/cellular-automata) about it, where they discuss emergent behaviours, Turing complete cellular automata and the edge of chaos hypothesis among other things.  \n",
    "\n",
    "Here we will focus on Neural Cellular Automatas"
   ]
  },
  {
   "cell_type": "markdown",
   "metadata": {},
   "source": [
    "### 2) CA as Convolutional Neural Networks"
   ]
  },
  {
   "cell_type": "markdown",
   "metadata": {},
   "source": [
    "CA have a clear parallelism to Convolutional Neural Networks (CNN), in this section we will demonstrate it by implementing the hat rule using pytorch 1d convolution operator F.conv1d.\n",
    "\n",
    "Before implementing the hat rule, we provide a simple yet useful example of how F.conv1d works by computing the running average of a signal.  "
   ]
  },
  {
   "cell_type": "markdown",
   "metadata": {},
   "source": [
    "### Running average with F.conv1d\n",
    "\n",
    "The full documentation of F.conv1d can be found [here](https://pytorch.org/docs/stable/generated/torch.nn.functional.conv1d.html#torch.nn.functional.conv1d) however we only need to know a few things:\n",
    "* The signature is F.conv1d(input, filter)\n",
    "* input is a tensor of shape (batch_size, n_channels, signal_length)\n",
    "* filter is a tensor of shape (batch_size, n_channels, filter_length)\n",
    "* The function returns the result of the convolution, a tensor of shape (batch_size, n_channels, signal_length - (filter_length+1) / 2)\n",
    "* For the mathematically inclined of you, the operator computes the correlation rather than the convolution\n",
    "\n",
    "Below you are asked to write the convolutional filter required to compute the running average."
   ]
  },
  {
   "cell_type": "code",
   "execution_count": 12,
   "metadata": {},
   "outputs": [
    {
     "data": {
      "text/plain": [
       "<matplotlib.legend.Legend at 0x1d19510b850>"
      ]
     },
     "execution_count": 12,
     "metadata": {},
     "output_type": "execute_result"
    },
    {
     "data": {
      "image/png": "[encoded data removed]",
      "text/plain": [
       "<Figure size 432x288 with 1 Axes>"
      ]
     },
     "metadata": {
      "needs_background": "light"
     },
     "output_type": "display_data"
    }
   ],
   "source": [
    "def running_average(input, window_size=3):\n",
    "    ## TODO: Write the filter to compute the running average of the input\n",
    "    filter = torch.ones(window_size) / window_size\n",
    "    # We need to reshape the input and weight tensors, then unravel the output tensor\n",
    "    return F.conv1d(input.view(1, 1, -1), filter.view(1, 1, -1), padding=\"same\").ravel()\n",
    "\n",
    "n_points = 50\n",
    "x = torch.linspace(0, 2 * np.pi, n_points)\n",
    "y = torch.sin(x)\n",
    "y_noisy = y + torch.randn(n_points) * 0.5\n",
    "\n",
    "pl.plot(x, y, label=\"sin(x)\")\n",
    "pl.plot(x, y_noisy, label=\"sin(x) + noise\")\n",
    "pl.plot(x, running_average(y_noisy, window_size=5), label=\"running average\")\n",
    "pl.legend()"
   ]
  },
  {
   "cell_type": "markdown",
   "metadata": {},
   "source": [
    "If you have implemented it correclty you should see a denoising of the signal.  \n",
    "\n",
    "Now that we understand how F.conv1d works we can use it to write the transition rule of the hat rule."
   ]
  },
  {
   "cell_type": "code",
   "execution_count": 15,
   "metadata": {},
   "outputs": [
    {
     "data": {
      "image/png": "[encoded data removed]",
      "text/plain": [
       "<Figure size 570.297x288 with 1 Axes>"
      ]
     },
     "metadata": {
      "needs_background": "light"
     },
     "output_type": "display_data"
    }
   ],
   "source": [
    "class HatRulePytorch(HatRule):\n",
    "    def step(self) -> torch.Tensor:\n",
    "        ## TODO: Write the transition rule of the hat rule using pytorch F.conv1d operator\n",
    "        weight = torch.tensor([1, 0, 1], dtype=torch.int8)\n",
    "        return F.conv1d(self.classroom.view(1, 1, -1), weight.view(1, 1, -1), padding=\"same\").ravel() % 2\n",
    "\n",
    "rule = HatRulePytorch(200)\n",
    "rule.plot_evolution(100)"
   ]
  },
  {
   "cell_type": "markdown",
   "metadata": {},
   "source": [
    "### 3) Neural Cellular Automata"
   ]
  },
  {
   "cell_type": "markdown",
   "metadata": {},
   "source": [
    "Up until now we have dealt with discrete states, while we have shown that these models, although simple, exhibit complex macroscopic behaviour (some of them are even Turing Complete), it turns out that is very difficult to find a CA that, starting from an initial state, reaches a given target state. The main problem is that we can't apply gradient based optimization, because the update rule, having discrete input and output, is not differentiable. Researchers have tried to tackle this using genetic algorithms, which don't require gradient information, however, even finding rules that converge to very simple patterns appears to be difficult.\n",
    "\n",
    "Neural Cellular Automata (NCA) solve this problem by considering the state $x$ to be continuous and use a neural network to model the rule $f$. This allows to train $f$ using gradient-based optimization."
   ]
  },
  {
   "cell_type": "code",
   "execution_count": null,
   "metadata": {},
   "outputs": [],
   "source": []
  },
  {
   "cell_type": "markdown",
   "metadata": {},
   "source": [
    "## References\n",
    "\n",
    "[1] Berto, Francesco and Jacopo Tagliabue, \"Cellular Automata\", The Stanford Encyclopedia of Philosophy (Spring 2022 Edition), Edward N. Zalta (ed.), forthcoming URL = <https://plato.stanford.edu/archives/spr2022/entries/cellular-automata/>. "
   ]
  }
 ],
 "metadata": {
  "interpreter": {
   "hash": "2a4961f4bd0df756dde565ebb4ae544abddfa7c654cb42033f70d271070244ac"
  },
  "kernelspec": {
   "display_name": "Python 3.9.7 ('base')",
   "language": "python",
   "name": "python3"
  },
  "language_info": {
   "codemirror_mode": {
    "name": "ipython",
    "version": 3
   },
   "file_extension": ".py",
   "mimetype": "text/x-python",
   "name": "python",
   "nbconvert_exporter": "python",
   "pygments_lexer": "ipython3",
   "version": "3.9.7"
  },
  "orig_nbformat": 4
 },
 "nbformat": 4,
 "nbformat_minor": 2
}
